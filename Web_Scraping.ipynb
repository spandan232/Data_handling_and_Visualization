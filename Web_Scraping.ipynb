{
  "nbformat": 4,
  "nbformat_minor": 0,
  "metadata": {
    "colab": {
      "provenance": [],
      "authorship_tag": "ABX9TyNFNHqgcIMlKC5DW35em+G4",
      "include_colab_link": true
    },
    "kernelspec": {
      "name": "python3",
      "display_name": "Python 3"
    },
    "language_info": {
      "name": "python"
    }
  },
  "cells": [
    {
      "cell_type": "markdown",
      "metadata": {
        "id": "view-in-github",
        "colab_type": "text"
      },
      "source": [
        "<a href=\"https://colab.research.google.com/github/spandan232/Data_handling_and_Visualization/blob/main/Web_Scraping.ipynb\" target=\"_parent\"><img src=\"https://colab.research.google.com/assets/colab-badge.svg\" alt=\"Open In Colab\"/></a>"
      ]
    },
    {
      "cell_type": "code",
      "execution_count": null,
      "metadata": {
        "id": "OyCJAxYOJPfq"
      },
      "outputs": [],
      "source": [
        "import requests\n",
        "Link=\"https://www.geeksforgeeks.org/\"\n",
        "Link_text=requests.get(Link).text\n",
        "print(Link_text)"
      ]
    },
    {
      "cell_type": "markdown",
      "source": [
        "To pull out of HTML & XML files"
      ],
      "metadata": {
        "id": "KP5ivQiMKfQH"
      }
    },
    {
      "cell_type": "code",
      "source": [
        "soup=BeautifulSoup(Link_text,'lxml')"
      ],
      "metadata": {
        "id": "R-s4DJaCKuSx"
      },
      "execution_count": 30,
      "outputs": []
    },
    {
      "cell_type": "markdown",
      "source": [
        "Make the indentation proper"
      ],
      "metadata": {
        "id": "i1z6yoKMK0hu"
      }
    },
    {
      "cell_type": "code",
      "source": [
        "print(soup.prettify())"
      ],
      "metadata": {
        "id": "GhCYqquYKdHX"
      },
      "execution_count": null,
      "outputs": []
    },
    {
      "cell_type": "code",
      "source": [
        "print(soup.title)"
      ],
      "metadata": {
        "id": "FuQrB5MeMbQN"
      },
      "execution_count": null,
      "outputs": []
    },
    {
      "cell_type": "code",
      "source": [
        "#Only strings not the tags\n",
        "print(soup.title.string)"
      ],
      "metadata": {
        "id": "yP_Nwbp7Minf"
      },
      "execution_count": null,
      "outputs": []
    },
    {
      "cell_type": "code",
      "source": [
        "soup.a"
      ],
      "metadata": {
        "id": "Jfv07D0zMwV1"
      },
      "execution_count": null,
      "outputs": []
    },
    {
      "cell_type": "code",
      "source": [
        "soup.find_all('a')"
      ],
      "metadata": {
        "id": "65LM_JqDM2Rw"
      },
      "execution_count": null,
      "outputs": []
    },
    {
      "cell_type": "code",
      "source": [
        "all_tables = soup.find_all('')\n",
        "print(all_tables)"
      ],
      "metadata": {
        "id": "mDxy8ObyM-ZQ"
      },
      "execution_count": null,
      "outputs": []
    },
    {
      "cell_type": "code",
      "source": [
        "import requests\n",
        "from bs4 import BeautifulSoup\n",
        "\n",
        "def getdata(url):\n",
        "\tr = requests.get(url)\n",
        "\treturn r.text\n",
        "\n",
        "htmldata = getdata(\"https://www.geeksforgeeks.org/\")\n",
        "soup = BeautifulSoup(htmldata, 'html.parser')\n",
        "for item in soup.find_all('img'):\n",
        "\tprint(item['src'])\n"
      ],
      "metadata": {
        "colab": {
          "base_uri": "https://localhost:8080/"
        },
        "id": "dinXfqR1Jvdw",
        "outputId": "f0e4c863-0ebb-4a2a-9e41-607f4d08a83c"
      },
      "execution_count": 37,
      "outputs": [
        {
          "output_type": "stream",
          "name": "stdout",
          "text": [
            "https://media.geeksforgeeks.org/gfg-gg-logo.svg\n",
            "https://media.geeksforgeeks.org/auth-dashboard-uploads/gfgFooterLogo.png\n",
            "https://media.geeksforgeeks.org/auth-dashboard-uploads/googleplay.png\n",
            "https://media.geeksforgeeks.org/auth-dashboard-uploads/appstore.png\n",
            "\n"
          ]
        }
      ]
    }
  ]
}